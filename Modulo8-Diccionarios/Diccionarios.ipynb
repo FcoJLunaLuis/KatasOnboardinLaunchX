{
 "cells": [
  {
   "cell_type": "markdown",
   "metadata": {},
   "source": [
    "## Diccionarios"
   ]
  },
  {
   "cell_type": "code",
   "execution_count": 6,
   "metadata": {},
   "outputs": [
    {
     "name": "stdout",
     "output_type": "stream",
     "text": [
      "Marte\n",
      "2\n",
      "Marte circunferencia polar: 6752\n"
     ]
    }
   ],
   "source": [
    "planet = {\n",
    "    'name':'Marte',\n",
    "    'moons': 2\n",
    "}\n",
    "print(planet.get('name'))\n",
    "print(planet.get('moons'))\n",
    "\n",
    "planet ['circunferencia']={\n",
    "    'polar':6752,\n",
    "    'equatorial':6792\n",
    "}\n",
    "print(f'''{planet['name']} circunferencia polar: {planet['circunferencia']['polar']}''')"
   ]
  },
  {
   "cell_type": "markdown",
   "metadata": {},
   "source": [
    "### Programación dinámica con diccionarios\n",
    "Calculo de valores"
   ]
  },
  {
   "cell_type": "code",
   "execution_count": 12,
   "metadata": {},
   "outputs": [
    {
     "name": "stdout",
     "output_type": "stream",
     "text": [
      "214\n"
     ]
    }
   ],
   "source": [
    "planet_moons = {\n",
    "    'mercury': 0,\n",
    "    'venus': 0,\n",
    "    'earth': 1,\n",
    "    'mars': 2,\n",
    "    'jupiter': 79,\n",
    "    'saturn': 82,\n",
    "    'uranus': 27,\n",
    "    'neptune': 14,\n",
    "    'pluto': 5,\n",
    "    'haumea': 2,\n",
    "    'makemake': 1,\n",
    "    'eris': 1\n",
    "}\n",
    "\n",
    "moons = planet_moons.values()\n",
    "planets = len(planet_moons.keys())\n",
    "\n",
    "total_moons = 0\n",
    "\n",
    "for num_moons in moons:\n",
    "    total_moons += num_moons\n",
    "print(total_moons)"
   ]
  }
 ],
 "metadata": {
  "interpreter": {
   "hash": "01db3f0e9912dfbb684f79b8bbed7c0a50b1a1a603d42293cd2ef565bb1428e5"
  },
  "kernelspec": {
   "display_name": "Python 3.9.8 64-bit",
   "language": "python",
   "name": "python3"
  },
  "language_info": {
   "codemirror_mode": {
    "name": "ipython",
    "version": 3
   },
   "file_extension": ".py",
   "mimetype": "text/x-python",
   "name": "python",
   "nbconvert_exporter": "python",
   "pygments_lexer": "ipython3",
   "version": "3.9.8"
  },
  "orig_nbformat": 4
 },
 "nbformat": 4,
 "nbformat_minor": 2
}
