{
 "cells": [
  {
   "cell_type": "markdown",
   "metadata": {},
   "source": [
    "## Estructuras de control\n",
    "Uso de ciclos while en python"
   ]
  },
  {
   "cell_type": "code",
   "execution_count": 2,
   "metadata": {},
   "outputs": [
    {
     "name": "stdout",
     "output_type": "stream",
     "text": [
      "Tierra\n",
      "Neptuno\n",
      "Jupite\n",
      "Marte\n",
      "Marte\n",
      "Marte\n",
      "Marte\n"
     ]
    }
   ],
   "source": [
    "planets = []\n",
    "new_planet = ''\n",
    "\n",
    "while new_planet != 'done':\n",
    "    if new_planet !='':\n",
    "        planets.append(new_planet)\n",
    "    new_planet = input('Intruduzca un planeta')\n",
    "\n",
    "for planet in planets:\n",
    "    print(planet)\n"
   ]
  }
 ],
 "metadata": {
  "interpreter": {
   "hash": "01db3f0e9912dfbb684f79b8bbed7c0a50b1a1a603d42293cd2ef565bb1428e5"
  },
  "kernelspec": {
   "display_name": "Python 3.9.8 64-bit",
   "language": "python",
   "name": "python3"
  },
  "language_info": {
   "codemirror_mode": {
    "name": "ipython",
    "version": 3
   },
   "file_extension": ".py",
   "mimetype": "text/x-python",
   "name": "python",
   "nbconvert_exporter": "python",
   "pygments_lexer": "ipython3",
   "version": "3.9.8"
  },
  "orig_nbformat": 4
 },
 "nbformat": 4,
 "nbformat_minor": 2
}
