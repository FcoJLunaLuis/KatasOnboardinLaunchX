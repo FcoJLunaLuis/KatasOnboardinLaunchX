{
 "cells": [
  {
   "cell_type": "markdown",
   "metadata": {},
   "source": [
    "## Sistema de deteccion de asteroides\n",
    "El sistema debe dar una advertencia cuando un asteroide se acerque a la tierra a una velocidad peligrosa."
   ]
  },
  {
   "cell_type": "markdown",
   "metadata": {},
   "source": [
    "If else elfi"
   ]
  },
  {
   "cell_type": "code",
   "execution_count": 2,
   "metadata": {},
   "outputs": [
    {
     "name": "stdout",
     "output_type": "stream",
     "text": [
      "Un asteroide se acerca a una velocidad de 49km/s\n"
     ]
    }
   ],
   "source": [
    "asteroide = 49\n",
    "if asteroide > 25:\n",
    "    print(\"Un asteroide se acerca a una velocidad de \" + str(asteroide) + \"km/s\")"
   ]
  },
  {
   "cell_type": "code",
   "execution_count": null,
   "metadata": {},
   "outputs": [],
   "source": [
    "asteroide = 19\n",
    "if asteroide >= 20:\n",
    "    print(\"*Un haz de luz a aparecido en la atmosfera, rueda percepcion\")\n",
    "elif aste == 20:\n",
    "    print(\"Un haz de luz muy bonito a aparecido en el cielo\")\n",
    "else:\n",
    "    print(\"Sientes que algo va a pasar, pero no sabes que, rueda iniciativa\")"
   ]
  },
  {
   "cell_type": "markdown",
   "metadata": {},
   "source": [
    "and or"
   ]
  },
  {
   "cell_type": "code",
   "execution_count": 3,
   "metadata": {},
   "outputs": [
    {
     "name": "stdout",
     "output_type": "stream",
     "text": [
      "Un haz de luz a aparecido en el cielo, rueda percepcion\n"
     ]
    }
   ],
   "source": [
    "tam_asteroide = 25\n",
    "vel_asteroide = 40\n",
    "if vel_asteroide > 25 and tam_asteroide > 25:\n",
    "    print(\"Un asteroide con gran tamaño se acerca al planeta, se recomienda entrar en panico\")\n",
    "elif(vel_asteroide >= 20):\n",
    "    print(\"Un haz de luz a aparecido en el cielo, rueda percepcion\")\n",
    "elif(tam_asteroide < 25):\n",
    "    print(\"Otro dia para jugar dnd\")\n",
    "else:\n",
    "    print(\"Un dia mas para jugar dnd\")"
   ]
  }
 ],
 "metadata": {
  "interpreter": {
   "hash": "01db3f0e9912dfbb684f79b8bbed7c0a50b1a1a603d42293cd2ef565bb1428e5"
  },
  "kernelspec": {
   "display_name": "Python 3.9.8 64-bit",
   "language": "python",
   "name": "python3"
  },
  "language_info": {
   "codemirror_mode": {
    "name": "ipython",
    "version": 3
   },
   "file_extension": ".py",
   "mimetype": "text/x-python",
   "name": "python",
   "nbconvert_exporter": "python",
   "pygments_lexer": "ipython3",
   "version": "3.9.8"
  },
  "orig_nbformat": 4
 },
 "nbformat": 4,
 "nbformat_minor": 2
}
