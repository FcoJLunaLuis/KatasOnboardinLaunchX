{
 "cells": [
  {
   "cell_type": "markdown",
   "metadata": {},
   "source": [
    "## Transformar cadenas"
   ]
  },
  {
   "cell_type": "markdown",
   "metadata": {},
   "source": [
    "Ejercicio 1"
   ]
  },
  {
   "cell_type": "code",
   "execution_count": 2,
   "metadata": {},
   "outputs": [
    {
     "name": "stdout",
     "output_type": "stream",
     "text": [
      " The Moon is Earth's only satellite\n",
      " The Moon is Earth's only satellite\n",
      " There are several interesting facts about the Moon and how it affects life here on Earth\n",
      " There are several interesting facts about the Moon and how it affects life here on Earth\n",
      " This yearly drift is not significant enough to cause immediate effects on Earth\n",
      " This yearly drift is not significant enough to cause immediate effects on Earth\n",
      " The highest daylight temperature of the Moon is 127 C\n",
      " The highest daylight temperature of the Moon is 127 Celsius\n"
     ]
    }
   ],
   "source": [
    "text = \"\"\"Interesting facts about the Moon. The Moon is Earth's only satellite. There are several interesting facts about the Moon and how it affects life here on Earth. \n",
    "On average, the Moon moves 4cm away from the Earth every year. This yearly drift is not significant enough to cause immediate effects on Earth. The highest daylight temperature of the Moon is 127 C.\"\"\"\n",
    "\n",
    "oraciones = text.split('.')\n",
    "\n",
    "palabras_clave = [\"average\",\"temperature\",\"distance\"]\n",
    "\n",
    "for oracion in oraciones:\n",
    "    for palabras_clave in palabras_clave:\n",
    "        if palabras_clave in oracion:\n",
    "            print(oracion)\n",
    "            print(oracion.replace('C', 'Celsius'))\n",
    "            break\n"
   ]
  },
  {
   "cell_type": "markdown",
   "metadata": {},
   "source": [
    "Ejercicio 2"
   ]
  },
  {
   "cell_type": "code",
   "execution_count": 8,
   "metadata": {},
   "outputs": [
    {
     "name": "stdout",
     "output_type": "stream",
     "text": [
      "Tierra Y Luna: Datos Que No Conocias\n",
      "Tierra tiene un satelite llamado Luna, el cual tiene una gravedad de 1.6199999999999999 m/s2\n",
      "Marte y Ganimedes: Datos que no conocias\n",
      "Marte tiene un satelite llamado Ganimedes, el cual tiene una gravedad de 1.4300000000000002\n"
     ]
    }
   ],
   "source": [
    "planeta = \"Tierra\"\n",
    "gravedad = 0.00162\n",
    "nombre = \"Luna\"\n",
    "\n",
    "titulo = f'{planeta} y {nombre}: Datos que no conocias'\n",
    "\n",
    "hechos = f\"{planeta} tiene un satelite llamado {nombre}, el cual tiene una gravedad de {gravedad * 1000} m/s2\"\n",
    "plantilla = f\"{titulo.title()}\\n{hechos}\"\n",
    "\n",
    "print(plantilla)\n",
    "\n",
    "planeta = \"Marte\"\n",
    "gravedad = 0.00143\n",
    "nombre = \"Ganimedes\"\n",
    "\n",
    "nueva_plantilla = f\"{planeta} y {nombre}: Datos que no conocias\\n{planeta} tiene un satelite llamado {nombre}, el cual tiene una gravedad de {gravedad*1000}\"\n",
    "\n",
    "print(nueva_plantilla.format(nombre=nombre, planeta=planeta, gravedad=gravedad))\n",
    "\n"
   ]
  }
 ],
 "metadata": {
  "interpreter": {
   "hash": "01db3f0e9912dfbb684f79b8bbed7c0a50b1a1a603d42293cd2ef565bb1428e5"
  },
  "kernelspec": {
   "display_name": "Python 3.9.8 64-bit",
   "language": "python",
   "name": "python3"
  },
  "language_info": {
   "codemirror_mode": {
    "name": "ipython",
    "version": 3
   },
   "file_extension": ".py",
   "mimetype": "text/x-python",
   "name": "python",
   "nbconvert_exporter": "python",
   "pygments_lexer": "ipython3",
   "version": "3.9.8"
  },
  "orig_nbformat": 4
 },
 "nbformat": 4,
 "nbformat_minor": 2
}
