{
 "cells": [
  {
   "cell_type": "markdown",
   "metadata": {},
   "source": [
    "## Funciones\n",
    "Argumentos y funciones"
   ]
  },
  {
   "cell_type": "code",
   "execution_count": 4,
   "metadata": {},
   "outputs": [
    {
     "name": "stdout",
     "output_type": "stream",
     "text": [
      "\n",
      "    Tanque 1 = 90\n",
      "    Tanque 2 = 50\n",
      "    Tanque 3 = 70\n",
      "    promedio de combustible = 70.0\n",
      "    \n",
      "70.0\n"
     ]
    }
   ],
   "source": [
    "def reporte_lectura_combustible(tanque1, tanque2,tanque3):\n",
    "    promedio_combustible = promedio([tanque1,tanque2,tanque3])\n",
    "    return f'''\n",
    "    Tanque 1 = {tanque1}\n",
    "    Tanque 2 = {tanque2}\n",
    "    Tanque 3 = {tanque3}\n",
    "    promedio de combustible = {promedio_combustible}\n",
    "    '''\n",
    "print(reporte_lectura_combustible(90,50,70))\n",
    "\n",
    "def promedio(valores):\n",
    "    total = sum(valores)\n",
    "    num_valores = len(valores)\n",
    "    promedio = total/num_valores\n",
    "    return promedio\n",
    "print(promedio([90,50,70]))\n"
   ]
  },
  {
   "cell_type": "markdown",
   "metadata": {},
   "source": [
    "Trabajar con argumentos de palabra clave"
   ]
  },
  {
   "cell_type": "code",
   "execution_count": 17,
   "metadata": {},
   "outputs": [
    {
     "name": "stdout",
     "output_type": "stream",
     "text": [
      "Reporte de mision\n",
      "    Tiempo de vuelo: 60 \n",
      "    Destino: Marte\n",
      "    Nivel de combustible total 160\n",
      "    tanque principal con 60% de conmbustible\n",
      "    tanque externo con 100% de conmbustible\n",
      "    \n"
     ]
    }
   ],
   "source": [
    "def reporte_mision( destino,*minutos, **reservas_combustible):\n",
    "    reporte = f'''Reporte de mision\n",
    "    Tiempo de vuelo: {sum(minutos)} \n",
    "    Destino: {destino}\n",
    "    Nivel de combustible total {sum(reservas_combustible.values())}\n",
    "    '''\n",
    "    for tanque, porcentaje in reservas_combustible.items():\n",
    "        reporte += f'tanque {tanque} con {porcentaje}% de conmbustible\\n    '\n",
    "    return reporte\n",
    "print(reporte_mision('Marte',10, 50,principal = 60,externo = 100))\n",
    "\n"
   ]
  }
 ],
 "metadata": {
  "interpreter": {
   "hash": "01db3f0e9912dfbb684f79b8bbed7c0a50b1a1a603d42293cd2ef565bb1428e5"
  },
  "kernelspec": {
   "display_name": "Python 3.9.8 64-bit",
   "language": "python",
   "name": "python3"
  },
  "language_info": {
   "codemirror_mode": {
    "name": "ipython",
    "version": 3
   },
   "file_extension": ".py",
   "mimetype": "text/x-python",
   "name": "python",
   "nbconvert_exporter": "python",
   "pygments_lexer": "ipython3",
   "version": "3.9.8"
  },
  "orig_nbformat": 4
 },
 "nbformat": 4,
 "nbformat_minor": 2
}
